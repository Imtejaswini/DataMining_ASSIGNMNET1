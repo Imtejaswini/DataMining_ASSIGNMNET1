{
 "cells": [
  {
   "cell_type": "code",
   "execution_count": 1,
   "id": "fec80b60-0535-4a0d-97b1-db7a5cacecec",
   "metadata": {},
   "outputs": [],
   "source": [
    "def question2_1():\n",
    "    answer = ['discrete', 'quantitative', 'ratio']\n",
    "    return answer\n",
    "\n",
    "def question2_2():\n",
    "    answer = ['continuous', 'quantitative', 'ratio']\n",
    "    return answer\n",
    "\n",
    "def question2_3():\n",
    "    answer = ['continuous', 'quantitative', 'ratio'] \n",
    "    return answer\n",
    "\n",
    "def question2_4():\n",
    "    answer = ['discrete', 'qualitative', 'ordinal'] \n",
    "    return answer\n",
    "\n",
    "def question2_5():\n",
    "    answer = ['discrete', 'qualitative', 'nominal']\n",
    "    return answer\n"
   ]
  },
  {
   "cell_type": "code",
   "execution_count": null,
   "id": "c72852b8-55fc-42a3-b49a-67e5a3cb492f",
   "metadata": {},
   "outputs": [],
   "source": []
  }
 ],
 "metadata": {
  "kernelspec": {
   "display_name": "Python 3 (ipykernel)",
   "language": "python",
   "name": "python3"
  },
  "language_info": {
   "codemirror_mode": {
    "name": "ipython",
    "version": 3
   },
   "file_extension": ".py",
   "mimetype": "text/x-python",
   "name": "python",
   "nbconvert_exporter": "python",
   "pygments_lexer": "ipython3",
   "version": "3.9.7"
  }
 },
 "nbformat": 4,
 "nbformat_minor": 5
}
